{
 "cells": [
  {
   "cell_type": "code",
   "execution_count": 27,
   "id": "e46448a4",
   "metadata": {},
   "outputs": [
    {
     "name": "stdout",
     "output_type": "stream",
     "text": [
      "Requirement already satisfied: selenium in c:\\users\\hp\\anaconda3\\lib\\site-packages (4.7.2)\n",
      "Requirement already satisfied: trio-websocket~=0.9 in c:\\users\\hp\\anaconda3\\lib\\site-packages (from selenium) (0.9.2)\n",
      "Requirement already satisfied: urllib3[socks]~=1.26 in c:\\users\\hp\\anaconda3\\lib\\site-packages (from selenium) (1.26.9)\n",
      "Requirement already satisfied: trio~=0.17 in c:\\users\\hp\\anaconda3\\lib\\site-packages (from selenium) (0.22.0)\n",
      "Requirement already satisfied: certifi>=2021.10.8 in c:\\users\\hp\\anaconda3\\lib\\site-packages (from selenium) (2021.10.8)\n",
      "Requirement already satisfied: sortedcontainers in c:\\users\\hp\\anaconda3\\lib\\site-packages (from trio~=0.17->selenium) (2.4.0)\n",
      "Requirement already satisfied: cffi>=1.14 in c:\\users\\hp\\anaconda3\\lib\\site-packages (from trio~=0.17->selenium) (1.15.0)\n",
      "Requirement already satisfied: async-generator>=1.9 in c:\\users\\hp\\anaconda3\\lib\\site-packages (from trio~=0.17->selenium) (1.10)\n",
      "Requirement already satisfied: outcome in c:\\users\\hp\\anaconda3\\lib\\site-packages (from trio~=0.17->selenium) (1.2.0)\n",
      "Requirement already satisfied: sniffio in c:\\users\\hp\\anaconda3\\lib\\site-packages (from trio~=0.17->selenium) (1.2.0)\n",
      "Requirement already satisfied: attrs>=19.2.0 in c:\\users\\hp\\anaconda3\\lib\\site-packages (from trio~=0.17->selenium) (21.4.0)\n",
      "Requirement already satisfied: idna in c:\\users\\hp\\anaconda3\\lib\\site-packages (from trio~=0.17->selenium) (3.3)\n",
      "Requirement already satisfied: exceptiongroup>=1.0.0rc9 in c:\\users\\hp\\anaconda3\\lib\\site-packages (from trio~=0.17->selenium) (1.1.0)\n",
      "Requirement already satisfied: pycparser in c:\\users\\hp\\anaconda3\\lib\\site-packages (from cffi>=1.14->trio~=0.17->selenium) (2.21)\n",
      "Requirement already satisfied: wsproto>=0.14 in c:\\users\\hp\\anaconda3\\lib\\site-packages (from trio-websocket~=0.9->selenium) (1.2.0)\n",
      "Requirement already satisfied: PySocks!=1.5.7,<2.0,>=1.5.6 in c:\\users\\hp\\anaconda3\\lib\\site-packages (from urllib3[socks]~=1.26->selenium) (1.7.1)\n",
      "Requirement already satisfied: h11<1,>=0.9.0 in c:\\users\\hp\\anaconda3\\lib\\site-packages (from wsproto>=0.14->trio-websocket~=0.9->selenium) (0.14.0)\n"
     ]
    }
   ],
   "source": [
    "# Installing the selenium.\n",
    "!pip install selenium"
   ]
  },
  {
   "cell_type": "code",
   "execution_count": 28,
   "id": "e5b4cd3f",
   "metadata": {},
   "outputs": [],
   "source": [
    "# Importing necessary libraries.\n",
    "import selenium\n",
    "import pandas as pd\n",
    "from selenium import webdriver\n",
    "import warnings\n",
    "warnings.filterwarnings('ignore')\n",
    "from selenium.common.exceptions import StaleElementReferenceException, NoSuchElementException\n",
    "from selenium.webdriver.common.by import By\n",
    "import time"
   ]
  },
  {
   "cell_type": "markdown",
   "id": "4bafed6f",
   "metadata": {},
   "source": [
    "1. Write a python program to scrape data for “Data Analyst” Job position in “Bangalore” location. You have to scrape the job-title, job-location, company_name, experience_required. You have to scrape first 10 jobs data. This task will be done in following steps:\n"
   ]
  },
  {
   "cell_type": "code",
   "execution_count": 29,
   "id": "0a15beee",
   "metadata": {},
   "outputs": [
    {
     "data": {
      "text/plain": [
       "<selenium.webdriver.chrome.webdriver.WebDriver (session=\"acbaa0e30942c4160989d6b95f559443\")>"
      ]
     },
     "execution_count": 29,
     "metadata": {},
     "output_type": "execute_result"
    }
   ],
   "source": [
    "# Let's first connect to web driver.\n",
    "driver=webdriver.Chrome(r\"H:\\Data_Science\\chromedriver.exe\")\n",
    "driver"
   ]
  },
  {
   "cell_type": "code",
   "execution_count": 30,
   "id": "aa86e85d",
   "metadata": {},
   "outputs": [],
   "source": [
    "# Opening naukri.com\n",
    "url ='https://www.naukri.com/'\n",
    "driver.get(url)"
   ]
  },
  {
   "cell_type": "code",
   "execution_count": 31,
   "id": "8484af1f",
   "metadata": {},
   "outputs": [],
   "source": [
    "driver.find_element(By.XPATH,'//*[@id=\"root\"]/div[6]/div/div/div[1]/div/div/div[1]/input').send_keys('Data Analyst')\n",
    "driver.find_element(By.XPATH,'//*[@id=\"root\"]/div[6]/div/div/div[5]/div/div/div/input').send_keys('Bangalore')\n",
    "driver.find_element(By.XPATH,'//*[@id=\"root\"]/div[6]/div/div/div[6]').click()"
   ]
  },
  {
   "cell_type": "code",
   "execution_count": 32,
   "id": "6e73bf1c",
   "metadata": {},
   "outputs": [],
   "source": [
    "#creating the empty lists\n",
    "job_title=[]\n",
    "job_location=[]\n",
    "company_name=[]\n",
    "job_description=[]"
   ]
  },
  {
   "cell_type": "code",
   "execution_count": 33,
   "id": "d6af0028",
   "metadata": {},
   "outputs": [],
   "source": [
    "#getting the list of url of first 10 data scientist jobs\n",
    "\n",
    "URL=[]\n",
    "job_tags=driver.find_elements(By.XPATH,\"//a[@class='title fw500 ellipsis']\")[0:10]\n",
    "for i in job_tags:\n",
    "    URL.append(i.get_attribute('href'))"
   ]
  },
  {
   "cell_type": "code",
   "execution_count": 34,
   "id": "ff73a34f",
   "metadata": {},
   "outputs": [],
   "source": [
    "for i in URL:\n",
    "    driver.get(i)\n",
    "    try:\n",
    "        job_title.append((driver.find_element(By.XPATH,'//*[@id=\"root\"]/main/div[2]/div[2]/section[1]/div[1]/div[1]/header/h1')).text)\n",
    "        job_location.append((driver.find_element(By.XPATH,'//*[@id=\"root\"]/main/div[2]/div[2]/section[1]/div[1]/div[2]/div[3]/span')).text)\n",
    "        company_name.append((driver.find_element(By.XPATH,'//*[@id=\"root\"]/main/div[2]/div[2]/section[1]/div[1]/div[1]/div/a')).text)\n",
    "        job_description.append((driver.find_element(By.XPATH,'//*[@id=\"root\"]/main/div[2]/div[2]/section[2]')).text.replace(\"\\n\",\"\"))\n",
    "    except NoSuchElementException:\n",
    "        job_title.append(\"Nan\")\n",
    "        job_location.append(\"Nan\")\n",
    "        company_name.append(\"Nan\")\n",
    "        job_description.append(\"Nan\")"
   ]
  },
  {
   "cell_type": "code",
   "execution_count": 35,
   "id": "b15f4ffa",
   "metadata": {},
   "outputs": [],
   "source": [
    "Data_scientist=pd.DataFrame({})\n",
    "Data_scientist['job_title']=job_title\n",
    "Data_scientist['job_location']=job_location\n",
    "Data_scientist['company_name']=company_name\n",
    "Data_scientist['job_description']=job_description"
   ]
  },
  {
   "cell_type": "code",
   "execution_count": 36,
   "id": "4a9e2442",
   "metadata": {},
   "outputs": [
    {
     "name": "stdout",
     "output_type": "stream",
     "text": [
      "\u001b[1mTop 10 Data Analyst Job at Bangrole :\u001b[0m\n"
     ]
    },
    {
     "data": {
      "text/html": [
       "<div>\n",
       "<style scoped>\n",
       "    .dataframe tbody tr th:only-of-type {\n",
       "        vertical-align: middle;\n",
       "    }\n",
       "\n",
       "    .dataframe tbody tr th {\n",
       "        vertical-align: top;\n",
       "    }\n",
       "\n",
       "    .dataframe thead th {\n",
       "        text-align: right;\n",
       "    }\n",
       "</style>\n",
       "<table border=\"1\" class=\"dataframe\">\n",
       "  <thead>\n",
       "    <tr style=\"text-align: right;\">\n",
       "      <th></th>\n",
       "      <th>job_title</th>\n",
       "      <th>job_location</th>\n",
       "      <th>company_name</th>\n",
       "      <th>job_description</th>\n",
       "    </tr>\n",
       "  </thead>\n",
       "  <tbody>\n",
       "  </tbody>\n",
       "</table>\n",
       "</div>"
      ],
      "text/plain": [
       "Empty DataFrame\n",
       "Columns: [job_title, job_location, company_name, job_description]\n",
       "Index: []"
      ]
     },
     "execution_count": 36,
     "metadata": {},
     "output_type": "execute_result"
    }
   ],
   "source": [
    "print('\\033[1m'+'Top 10 Data Analyst Job at Bangrole :'+'\\033[0m')\n",
    "Data_scientist"
   ]
  },
  {
   "cell_type": "markdown",
   "id": "2ee554be",
   "metadata": {},
   "source": [
    "3. In this question you have to scrape data using the filters available on the webpage as shown below: You have to use the location and salary filter. You have to scrape data for “Data Scientist” designation for first 10 job results. You have to scrape the job-title, job-location, company_name, experience_required. The location filter to be used is “Delhi/NCR” . The salary filter to be used is “3-6” lakhs."
   ]
  },
  {
   "cell_type": "code",
   "execution_count": 37,
   "id": "74f006ce",
   "metadata": {},
   "outputs": [
    {
     "data": {
      "text/plain": [
       "<selenium.webdriver.chrome.webdriver.WebDriver (session=\"eba4eba5572b44ff74b0d11853d41285\")>"
      ]
     },
     "execution_count": 37,
     "metadata": {},
     "output_type": "execute_result"
    }
   ],
   "source": [
    "# Let's first connect to web driver.\n",
    "driver=webdriver.Chrome(r\"H:\\Data_Science\\chromedriver.exe\")\n",
    "driver"
   ]
  },
  {
   "cell_type": "code",
   "execution_count": 38,
   "id": "52c791b8",
   "metadata": {},
   "outputs": [],
   "source": [
    "# Opening naukri.com\n",
    "url ='https://www.naukri.com/'\n",
    "driver.get(url)"
   ]
  },
  {
   "cell_type": "code",
   "execution_count": 39,
   "id": "0824d4e9",
   "metadata": {},
   "outputs": [],
   "source": [
    "driver.find_element(By.XPATH,'//*[@id=\"root\"]/div[6]/div/div/div[1]/div/div/div[1]/input').send_keys('Data Scientist')\n",
    "driver.find_element(By.XPATH,'//*[@id=\"root\"]/div[6]/div/div/div[5]/div/div/div/input').send_keys('Delhi/NCR')\n",
    "driver.find_element(By.XPATH,'//*[@id=\"root\"]/div[6]/div/div/div[6]').click()"
   ]
  },
  {
   "cell_type": "code",
   "execution_count": 40,
   "id": "36671ab7",
   "metadata": {},
   "outputs": [],
   "source": [
    "# Creating empty lists to store job title, job location, company name, experiecne require\n",
    "job_title =[]\n",
    "job_location=[]\n",
    "company =[]\n",
    "experienced=[]"
   ]
  },
  {
   "cell_type": "code",
   "execution_count": 41,
   "id": "7c3b81f8",
   "metadata": {},
   "outputs": [],
   "source": [
    "titles=driver.find_elements(By.XPATH,'//a[@class=\"title fw500 ellipsis\"]')[:10]\n",
    "company_title=driver.find_elements(By.XPATH,'//a[@class=\"subTitle ellipsis fleft\"]')[:10]\n",
    "company_location= driver.find_elements(By.XPATH,'//li[@class=\"fleft grey-text br2 placeHolderLi location\"]')[:10]\n",
    "experience_require=driver.find_elements(By.XPATH,\"//li[@class='fleft grey-text br2 placeHolderLi experience']/span[1]\")[0:10]"
   ]
  },
  {
   "cell_type": "code",
   "execution_count": 42,
   "id": "2062e328",
   "metadata": {},
   "outputs": [],
   "source": [
    "for i in titles:\n",
    "    job_title.append(i.text)\n",
    "for i in company_title:\n",
    "    company.append(i.text)\n",
    "for i in company_location:\n",
    "    job_location.append(i.text)\n",
    "for i in experience_require:\n",
    "    experience=i.text\n",
    "    experienced.append(experience) "
   ]
  },
  {
   "cell_type": "code",
   "execution_count": 43,
   "id": "06e8f41a",
   "metadata": {},
   "outputs": [
    {
     "name": "stdout",
     "output_type": "stream",
     "text": [
      "/033[1mTop 10 Data Analyst Job at Bangrole :/033[0m\n"
     ]
    },
    {
     "data": {
      "text/html": [
       "<div>\n",
       "<style scoped>\n",
       "    .dataframe tbody tr th:only-of-type {\n",
       "        vertical-align: middle;\n",
       "    }\n",
       "\n",
       "    .dataframe tbody tr th {\n",
       "        vertical-align: top;\n",
       "    }\n",
       "\n",
       "    .dataframe thead th {\n",
       "        text-align: right;\n",
       "    }\n",
       "</style>\n",
       "<table border=\"1\" class=\"dataframe\">\n",
       "  <thead>\n",
       "    <tr style=\"text-align: right;\">\n",
       "      <th></th>\n",
       "      <th>JOB TITLE</th>\n",
       "      <th>JOB LOCATION</th>\n",
       "      <th>Experience Require</th>\n",
       "    </tr>\n",
       "  </thead>\n",
       "  <tbody>\n",
       "  </tbody>\n",
       "</table>\n",
       "</div>"
      ],
      "text/plain": [
       "Empty DataFrame\n",
       "Columns: [JOB TITLE, JOB LOCATION, Experience Require]\n",
       "Index: []"
      ]
     },
     "execution_count": 43,
     "metadata": {},
     "output_type": "execute_result"
    }
   ],
   "source": [
    "Data_scientist=pd.DataFrame({})\n",
    "Data_scientist['JOB TITLE']=job_title\n",
    "Data_scientist['JOB LOCATION']=job_location\n",
    "Data_scientist['Experience Require']=experienced\n",
    "print('/033[1m'+'Top 10 Data Analyst Job at Bangrole :'+'/033[0m')\n",
    "Data_scientist"
   ]
  },
  {
   "cell_type": "markdown",
   "id": "092f6217",
   "metadata": {},
   "source": [
    "4. Scrape data of first 100 sunglasses listings on flipkart.com. You have to scrape four attributes:"
   ]
  },
  {
   "cell_type": "code",
   "execution_count": 44,
   "id": "bcafdfa6",
   "metadata": {},
   "outputs": [
    {
     "data": {
      "text/plain": [
       "<selenium.webdriver.chrome.webdriver.WebDriver (session=\"65431d569369287817eefdfac073e6ab\")>"
      ]
     },
     "execution_count": 44,
     "metadata": {},
     "output_type": "execute_result"
    }
   ],
   "source": [
    "# Let's first connect to web driver.\n",
    "driver=webdriver.Chrome(r\"H:\\Data_Science\\chromedriver.exe\")\n",
    "driver"
   ]
  },
  {
   "cell_type": "code",
   "execution_count": 45,
   "id": "9afb6db7",
   "metadata": {},
   "outputs": [],
   "source": [
    "# Opening naukri.com\n",
    "url ='https://www.flipkart.com/'\n",
    "driver.get(url)"
   ]
  },
  {
   "cell_type": "code",
   "execution_count": 46,
   "id": "387fe287",
   "metadata": {},
   "outputs": [
    {
     "ename": "ElementClickInterceptedException",
     "evalue": "Message: element click intercepted: Element <button class=\"L0Z3Pu\" type=\"submit\">...</button> is not clickable at point (556, 28). Other element would receive the click: <div class=\"_36HLxm col col-3-5\">...</div>\n  (Session info: chrome=109.0.5414.75)\nStacktrace:\nBacktrace:\n\t(No symbol) [0x00616643]\n\t(No symbol) [0x005ABE21]\n\t(No symbol) [0x004ADA9D]\n\t(No symbol) [0x004E92B2]\n\t(No symbol) [0x004E6970]\n\t(No symbol) [0x004E3E0B]\n\t(No symbol) [0x004E2548]\n\t(No symbol) [0x004D6B13]\n\t(No symbol) [0x004FFD7C]\n\t(No symbol) [0x004D641F]\n\t(No symbol) [0x005000D4]\n\t(No symbol) [0x00516B09]\n\t(No symbol) [0x004FFB76]\n\t(No symbol) [0x004D49C1]\n\t(No symbol) [0x004D5E5D]\n\tGetHandleVerifier [0x0088A142+2497106]\n\tGetHandleVerifier [0x008B85D3+2686691]\n\tGetHandleVerifier [0x008BBB9C+2700460]\n\tGetHandleVerifier [0x006C3B10+635936]\n\t(No symbol) [0x005B4A1F]\n\t(No symbol) [0x005BA418]\n\t(No symbol) [0x005BA505]\n\t(No symbol) [0x005C508B]\n\tBaseThreadInitThunk [0x76706BD9+25]\n\tRtlGetFullPathName_UEx [0x77498FD2+1218]\n\tRtlGetFullPathName_UEx [0x77498F9D+1165]\n",
     "output_type": "error",
     "traceback": [
      "\u001b[1;31m---------------------------------------------------------------------------\u001b[0m",
      "\u001b[1;31mElementClickInterceptedException\u001b[0m          Traceback (most recent call last)",
      "Input \u001b[1;32mIn [46]\u001b[0m, in \u001b[0;36m<cell line: 2>\u001b[1;34m()\u001b[0m\n\u001b[0;32m      1\u001b[0m driver\u001b[38;5;241m.\u001b[39mfind_element(By\u001b[38;5;241m.\u001b[39mXPATH,\u001b[38;5;124m'\u001b[39m\u001b[38;5;124m//*[@id=\u001b[39m\u001b[38;5;124m\"\u001b[39m\u001b[38;5;124mcontainer\u001b[39m\u001b[38;5;124m\"\u001b[39m\u001b[38;5;124m]/div/div[1]/div[1]/div[2]/div[2]/form/div/div/input\u001b[39m\u001b[38;5;124m'\u001b[39m)\u001b[38;5;241m.\u001b[39msend_keys(\u001b[38;5;124m'\u001b[39m\u001b[38;5;124msunglasses\u001b[39m\u001b[38;5;124m'\u001b[39m)\n\u001b[1;32m----> 2\u001b[0m \u001b[43mdriver\u001b[49m\u001b[38;5;241;43m.\u001b[39;49m\u001b[43mfind_element\u001b[49m\u001b[43m(\u001b[49m\u001b[43mBy\u001b[49m\u001b[38;5;241;43m.\u001b[39;49m\u001b[43mXPATH\u001b[49m\u001b[43m,\u001b[49m\u001b[38;5;124;43m'\u001b[39;49m\u001b[38;5;124;43m//*[@id=\u001b[39;49m\u001b[38;5;124;43m\"\u001b[39;49m\u001b[38;5;124;43mcontainer\u001b[39;49m\u001b[38;5;124;43m\"\u001b[39;49m\u001b[38;5;124;43m]/div/div[1]/div[1]/div[2]/div[2]/form/div/button\u001b[39;49m\u001b[38;5;124;43m'\u001b[39;49m\u001b[43m)\u001b[49m\u001b[38;5;241;43m.\u001b[39;49m\u001b[43mclick\u001b[49m\u001b[43m(\u001b[49m\u001b[43m)\u001b[49m\n",
      "File \u001b[1;32m~\\anaconda3\\lib\\site-packages\\selenium\\webdriver\\remote\\webelement.py:93\u001b[0m, in \u001b[0;36mWebElement.click\u001b[1;34m(self)\u001b[0m\n\u001b[0;32m     91\u001b[0m \u001b[38;5;28;01mdef\u001b[39;00m \u001b[38;5;21mclick\u001b[39m(\u001b[38;5;28mself\u001b[39m) \u001b[38;5;241m-\u001b[39m\u001b[38;5;241m>\u001b[39m \u001b[38;5;28;01mNone\u001b[39;00m:\n\u001b[0;32m     92\u001b[0m     \u001b[38;5;124;03m\"\"\"Clicks the element.\"\"\"\u001b[39;00m\n\u001b[1;32m---> 93\u001b[0m     \u001b[38;5;28;43mself\u001b[39;49m\u001b[38;5;241;43m.\u001b[39;49m\u001b[43m_execute\u001b[49m\u001b[43m(\u001b[49m\u001b[43mCommand\u001b[49m\u001b[38;5;241;43m.\u001b[39;49m\u001b[43mCLICK_ELEMENT\u001b[49m\u001b[43m)\u001b[49m\n",
      "File \u001b[1;32m~\\anaconda3\\lib\\site-packages\\selenium\\webdriver\\remote\\webelement.py:410\u001b[0m, in \u001b[0;36mWebElement._execute\u001b[1;34m(self, command, params)\u001b[0m\n\u001b[0;32m    408\u001b[0m     params \u001b[38;5;241m=\u001b[39m {}\n\u001b[0;32m    409\u001b[0m params[\u001b[38;5;124m\"\u001b[39m\u001b[38;5;124mid\u001b[39m\u001b[38;5;124m\"\u001b[39m] \u001b[38;5;241m=\u001b[39m \u001b[38;5;28mself\u001b[39m\u001b[38;5;241m.\u001b[39m_id\n\u001b[1;32m--> 410\u001b[0m \u001b[38;5;28;01mreturn\u001b[39;00m \u001b[38;5;28;43mself\u001b[39;49m\u001b[38;5;241;43m.\u001b[39;49m\u001b[43m_parent\u001b[49m\u001b[38;5;241;43m.\u001b[39;49m\u001b[43mexecute\u001b[49m\u001b[43m(\u001b[49m\u001b[43mcommand\u001b[49m\u001b[43m,\u001b[49m\u001b[43m \u001b[49m\u001b[43mparams\u001b[49m\u001b[43m)\u001b[49m\n",
      "File \u001b[1;32m~\\anaconda3\\lib\\site-packages\\selenium\\webdriver\\remote\\webdriver.py:444\u001b[0m, in \u001b[0;36mWebDriver.execute\u001b[1;34m(self, driver_command, params)\u001b[0m\n\u001b[0;32m    442\u001b[0m response \u001b[38;5;241m=\u001b[39m \u001b[38;5;28mself\u001b[39m\u001b[38;5;241m.\u001b[39mcommand_executor\u001b[38;5;241m.\u001b[39mexecute(driver_command, params)\n\u001b[0;32m    443\u001b[0m \u001b[38;5;28;01mif\u001b[39;00m response:\n\u001b[1;32m--> 444\u001b[0m     \u001b[38;5;28;43mself\u001b[39;49m\u001b[38;5;241;43m.\u001b[39;49m\u001b[43merror_handler\u001b[49m\u001b[38;5;241;43m.\u001b[39;49m\u001b[43mcheck_response\u001b[49m\u001b[43m(\u001b[49m\u001b[43mresponse\u001b[49m\u001b[43m)\u001b[49m\n\u001b[0;32m    445\u001b[0m     response[\u001b[38;5;124m\"\u001b[39m\u001b[38;5;124mvalue\u001b[39m\u001b[38;5;124m\"\u001b[39m] \u001b[38;5;241m=\u001b[39m \u001b[38;5;28mself\u001b[39m\u001b[38;5;241m.\u001b[39m_unwrap_value(response\u001b[38;5;241m.\u001b[39mget(\u001b[38;5;124m\"\u001b[39m\u001b[38;5;124mvalue\u001b[39m\u001b[38;5;124m\"\u001b[39m, \u001b[38;5;28;01mNone\u001b[39;00m))\n\u001b[0;32m    446\u001b[0m     \u001b[38;5;28;01mreturn\u001b[39;00m response\n",
      "File \u001b[1;32m~\\anaconda3\\lib\\site-packages\\selenium\\webdriver\\remote\\errorhandler.py:249\u001b[0m, in \u001b[0;36mErrorHandler.check_response\u001b[1;34m(self, response)\u001b[0m\n\u001b[0;32m    247\u001b[0m         alert_text \u001b[38;5;241m=\u001b[39m value[\u001b[38;5;124m\"\u001b[39m\u001b[38;5;124malert\u001b[39m\u001b[38;5;124m\"\u001b[39m]\u001b[38;5;241m.\u001b[39mget(\u001b[38;5;124m\"\u001b[39m\u001b[38;5;124mtext\u001b[39m\u001b[38;5;124m\"\u001b[39m)\n\u001b[0;32m    248\u001b[0m     \u001b[38;5;28;01mraise\u001b[39;00m exception_class(message, screen, stacktrace, alert_text)  \u001b[38;5;66;03m# type: ignore[call-arg]  # mypy is not smart enough here\u001b[39;00m\n\u001b[1;32m--> 249\u001b[0m \u001b[38;5;28;01mraise\u001b[39;00m exception_class(message, screen, stacktrace)\n",
      "\u001b[1;31mElementClickInterceptedException\u001b[0m: Message: element click intercepted: Element <button class=\"L0Z3Pu\" type=\"submit\">...</button> is not clickable at point (556, 28). Other element would receive the click: <div class=\"_36HLxm col col-3-5\">...</div>\n  (Session info: chrome=109.0.5414.75)\nStacktrace:\nBacktrace:\n\t(No symbol) [0x00616643]\n\t(No symbol) [0x005ABE21]\n\t(No symbol) [0x004ADA9D]\n\t(No symbol) [0x004E92B2]\n\t(No symbol) [0x004E6970]\n\t(No symbol) [0x004E3E0B]\n\t(No symbol) [0x004E2548]\n\t(No symbol) [0x004D6B13]\n\t(No symbol) [0x004FFD7C]\n\t(No symbol) [0x004D641F]\n\t(No symbol) [0x005000D4]\n\t(No symbol) [0x00516B09]\n\t(No symbol) [0x004FFB76]\n\t(No symbol) [0x004D49C1]\n\t(No symbol) [0x004D5E5D]\n\tGetHandleVerifier [0x0088A142+2497106]\n\tGetHandleVerifier [0x008B85D3+2686691]\n\tGetHandleVerifier [0x008BBB9C+2700460]\n\tGetHandleVerifier [0x006C3B10+635936]\n\t(No symbol) [0x005B4A1F]\n\t(No symbol) [0x005BA418]\n\t(No symbol) [0x005BA505]\n\t(No symbol) [0x005C508B]\n\tBaseThreadInitThunk [0x76706BD9+25]\n\tRtlGetFullPathName_UEx [0x77498FD2+1218]\n\tRtlGetFullPathName_UEx [0x77498F9D+1165]\n"
     ]
    }
   ],
   "source": [
    "driver.find_element(By.XPATH,'//*[@id=\"container\"]/div/div[1]/div[1]/div[2]/div[2]/form/div/div/input').send_keys('sunglasses')\n",
    "driver.find_element(By.XPATH,'//*[@id=\"container\"]/div/div[1]/div[1]/div[2]/div[2]/form/div/button').click()"
   ]
  },
  {
   "cell_type": "code",
   "execution_count": null,
   "id": "fbe7d68f",
   "metadata": {},
   "outputs": [],
   "source": [
    "# Creating the empty lists\n",
    "name=[]\n",
    "des=[]\n",
    "price=[]\n",
    "dis=[]"
   ]
  },
  {
   "cell_type": "code",
   "execution_count": null,
   "id": "12e9b720",
   "metadata": {},
   "outputs": [],
   "source": [
    "# Scraping URl of 100 Sunglasses\n",
    "URL=[]\n",
    "for i in range(0,3):\n",
    "    S_g_url=driver.find_elements(By.XPATH,\"//nav[@class='yFHi8N']//a\")\n",
    "    for i in S_g_url:\n",
    "        URL.append(i.get_attribute('href'))\n",
    "    # Clicking on NEXT button at end of page\n",
    "    driver.find_element(By.XPATH,'//a[@class=\"_1LKTO3\"]').click()\n",
    "    time.sleep(4)"
   ]
  },
  {
   "cell_type": "markdown",
   "id": "06564cb4",
   "metadata": {},
   "source": [
    "Q5: Scrape 100 reviews data from flipkart.com for iphone11 phone."
   ]
  },
  {
   "cell_type": "code",
   "execution_count": null,
   "id": "537e2967",
   "metadata": {},
   "outputs": [],
   "source": [
    "# Let's first connect to web driver.\n",
    "driver=webdriver.Chrome(r\"H:\\Data_Science\\chromedriver.exe\")\n",
    "driver"
   ]
  },
  {
   "cell_type": "code",
   "execution_count": null,
   "id": "2771a2c9",
   "metadata": {},
   "outputs": [],
   "source": [
    "# Opening naukri.com\n",
    "url ='https://www.flipkart.com/apple-iphone-11-black-64-gb/product-reviews/itm4e5041ba101fd?pid=MOBFWQ6BXGJCEYNY&lid=LSTMOBFWQ6BXGJCEYNYZXSHRJ&marketplace=FLIPKART'\n",
    "driver.get(url)"
   ]
  },
  {
   "cell_type": "code",
   "execution_count": null,
   "id": "916697ab",
   "metadata": {},
   "outputs": [],
   "source": [
    "driver.find_element(By.XPATH,'//*[@id=\"container\"]/div/div[1]/div[1]/div[2]/div[2]/form/div/button').click()"
   ]
  },
  {
   "cell_type": "code",
   "execution_count": null,
   "id": "eb3db8e7",
   "metadata": {},
   "outputs": [],
   "source": [
    "from selenium.common.exceptions import StaleElementReferenceException\n",
    "page_url = [] # a list containg url's of every page\n",
    "url = driver.find_elements(By.XPATH,\"//nav[@class='yFHi8N']//a\")\n",
    "for i in url:\n",
    "    page_url.append(i.get_attribute('href'))\n",
    "len(page_url)"
   ]
  },
  {
   "cell_type": "code",
   "execution_count": null,
   "id": "3f0f2d58",
   "metadata": {},
   "outputs": [],
   "source": [
    "rating=[]\n",
    "review=[]\n",
    "fullre=[]\n",
    "for i in page_url:\n",
    "    driver.get(i)\n",
    "    for i in rate:\n",
    "        rating.append(i.text)\n",
    "    rev=driver.find_elements_by_class_name(\"_2-N8zT\")\n",
    "    for i in rev:\n",
    "        review.append(i.text)\n",
    "    fr=driver.find_elements_by_class_name(\"t-ZTKy\")\n",
    "    for i in fr:\n",
    "        fullre.append(i.text)"
   ]
  },
  {
   "cell_type": "code",
   "execution_count": null,
   "id": "ec156726",
   "metadata": {},
   "outputs": [],
   "source": [
    "print('\\033[1m'+'Iphone 11 Reviews from Flipkart :'+'\\033[0m')"
   ]
  },
  {
   "cell_type": "markdown",
   "id": "ab014f1d",
   "metadata": {},
   "source": [
    "Q6: Scrape data for first 100 sneakers you find when you visit flipkart.com and search for “sneakers” in the search field."
   ]
  },
  {
   "cell_type": "code",
   "execution_count": null,
   "id": "1d79d5f4",
   "metadata": {},
   "outputs": [],
   "source": [
    "# Let's first connect to web driver.\n",
    "driver=webdriver.Chrome(r\"H:\\Data_Science\\chromedriver.exe\")\n",
    "driver"
   ]
  },
  {
   "cell_type": "code",
   "execution_count": null,
   "id": "67e8f572",
   "metadata": {},
   "outputs": [],
   "source": [
    "# Opening naukri.com\n",
    "url ='https://www.flipkart.com/'\n",
    "driver.get(url)"
   ]
  },
  {
   "cell_type": "code",
   "execution_count": null,
   "id": "39d7edf1",
   "metadata": {},
   "outputs": [],
   "source": [
    "driver.find_element(By.XPATH,'//*[@id=\"container\"]/div/div[1]/div[1]/div[2]/div[2]/form/div/div/input').send_keys('sneakers')\n",
    "driver.find_element(By.XPATH,'//*[@id=\"container\"]/div/div[1]/div[1]/div[2]/div[2]/form/div/button').click()"
   ]
  },
  {
   "cell_type": "code",
   "execution_count": 47,
   "id": "54503e72",
   "metadata": {},
   "outputs": [],
   "source": [
    "#creating the empty lists\n",
    "Brand=[]\n",
    "Product_Description=[]\n",
    "Price=[]\n",
    "Discount=[]"
   ]
  },
  {
   "cell_type": "code",
   "execution_count": null,
   "id": "73dde4d6",
   "metadata": {},
   "outputs": [],
   "source": [
    "#getting the list of url of first 100 sneakers\n",
    "URL=[]\n",
    "for i in range(0,4):\n",
    "    sneakers=driver.find_elements(By.XPATH,\"//a[@class='IRpwTa']\")\n",
    "    for i in sneakers:\n",
    "        URL.append(i.get_attribute('href'))\n",
    "    driver.find_element(By.XPATH,'//a[@class=\"ge-49M\"]').click()\n",
    "    time.sleep(3)"
   ]
  },
  {
   "cell_type": "code",
   "execution_count": null,
   "id": "44399c11",
   "metadata": {},
   "outputs": [],
   "source": [
    "URL"
   ]
  },
  {
   "cell_type": "code",
   "execution_count": 50,
   "id": "d5e4323c",
   "metadata": {},
   "outputs": [],
   "source": [
    "list_of_url=URL[0:100]"
   ]
  },
  {
   "cell_type": "code",
   "execution_count": 51,
   "id": "37aa958a",
   "metadata": {},
   "outputs": [
    {
     "name": "stderr",
     "output_type": "stream",
     "text": [
      "0it [00:00, ?it/s]\n"
     ]
    }
   ],
   "source": [
    "#running a loop to extract all the required information from the list_of_url\n",
    "from tqdm import tqdm\n",
    "for i in tqdm(list_of_url):\n",
    "    driver.get(i)\n",
    "    try:\n",
    "        brand=driver.find_element(By.XPATH,\"//span[@class='G6XhRU']\").text\n",
    "        Brand.append(brand)\n",
    "        description=driver.find_element(By.XPATH,\"//span[@class='B_NuCI']\").text\n",
    "        Product_Description.append(description)\n",
    "        price=driver.find_element(By.XPATH,\"//div[@class='_30jeq3 _16Jk6d']\").text\n",
    "        Price.append(price)\n",
    "        discount=driver.find_element(By.XPATH,\"//div[@class='_3Ay6Sb _31Dcoz pZkvcx']/span\").text\n",
    "        Discount.append(discount)\n",
    "    except NoSuchElementException:\n",
    "        Brand.append(\"Null\")\n",
    "        Product_Description.append(\"Null\")\n",
    "        Price.append(\"Null\")\n",
    "        Discount.append('Null')\n",
    "    time.sleep(3)"
   ]
  },
  {
   "cell_type": "code",
   "execution_count": 52,
   "id": "d482a6e5",
   "metadata": {},
   "outputs": [
    {
     "name": "stdout",
     "output_type": "stream",
     "text": [
      "0 0 0 0\n"
     ]
    }
   ],
   "source": [
    "print(len(Brand),len(Product_Description),len(Price),len(Discount))"
   ]
  },
  {
   "cell_type": "code",
   "execution_count": 53,
   "id": "7605c433",
   "metadata": {},
   "outputs": [
    {
     "data": {
      "text/html": [
       "<div>\n",
       "<style scoped>\n",
       "    .dataframe tbody tr th:only-of-type {\n",
       "        vertical-align: middle;\n",
       "    }\n",
       "\n",
       "    .dataframe tbody tr th {\n",
       "        vertical-align: top;\n",
       "    }\n",
       "\n",
       "    .dataframe thead th {\n",
       "        text-align: right;\n",
       "    }\n",
       "</style>\n",
       "<table border=\"1\" class=\"dataframe\">\n",
       "  <thead>\n",
       "    <tr style=\"text-align: right;\">\n",
       "      <th></th>\n",
       "      <th>Brand</th>\n",
       "      <th>Product_Description</th>\n",
       "      <th>Price</th>\n",
       "      <th>Discount</th>\n",
       "    </tr>\n",
       "  </thead>\n",
       "  <tbody>\n",
       "  </tbody>\n",
       "</table>\n",
       "</div>"
      ],
      "text/plain": [
       "Empty DataFrame\n",
       "Columns: [Brand, Product_Description, Price, Discount]\n",
       "Index: []"
      ]
     },
     "execution_count": 53,
     "metadata": {},
     "output_type": "execute_result"
    }
   ],
   "source": [
    "Sneakers=pd.DataFrame({})\n",
    "Sneakers['Brand']=Brand[:100]\n",
    "Sneakers['Product_Description']=Product_Description[:100]\n",
    "Sneakers['Price']=Price[:100]\n",
    "Sneakers['Discount']=Discount[:100]\n",
    "Sneakers"
   ]
  },
  {
   "cell_type": "markdown",
   "id": "4d95d8c0",
   "metadata": {},
   "source": [
    "7. Go to webpage https://www.amazon.in/ Enter “Laptop” in the search field and then click the search icon.Then set CPU Type filter to “Intel Core i7”"
   ]
  },
  {
   "cell_type": "code",
   "execution_count": 54,
   "id": "b2fee4fc",
   "metadata": {},
   "outputs": [
    {
     "data": {
      "text/plain": [
       "<selenium.webdriver.chrome.webdriver.WebDriver (session=\"30ad942472503c3f5fd25477937cf661\")>"
      ]
     },
     "execution_count": 54,
     "metadata": {},
     "output_type": "execute_result"
    }
   ],
   "source": [
    "# Let's first connect to web driver.\n",
    "driver=webdriver.Chrome(r\"H:\\Data_Science\\chromedriver.exe\")\n",
    "driver"
   ]
  },
  {
   "cell_type": "code",
   "execution_count": 55,
   "id": "e16268a7",
   "metadata": {},
   "outputs": [],
   "source": [
    "# Opening amazon.com\n",
    "url ='https://www.amazon.in/'\n",
    "driver.get(url)"
   ]
  },
  {
   "cell_type": "code",
   "execution_count": 56,
   "id": "d3aae321",
   "metadata": {},
   "outputs": [],
   "source": [
    "driver.find_element(By.XPATH,'//*[@id=\"twotabsearchtextbox\"]').send_keys('laptop')\n",
    "driver.find_element(By.XPATH,'//*[@id=\"nav-search-submit-button\"]').click()"
   ]
  },
  {
   "cell_type": "code",
   "execution_count": 57,
   "id": "e41179aa",
   "metadata": {},
   "outputs": [],
   "source": [
    "driver.find_element(By.XPATH,'//*[@id=\"p_n_feature_thirteen_browse-bin/12598163031\"]/span/a/div').click()\n",
    "driver.find_element(By.XPATH,'//*[@id=\"p_n_feature_thirteen_browse-bin/16757432031\"]/span').click()"
   ]
  },
  {
   "cell_type": "code",
   "execution_count": 58,
   "id": "66e33ca5",
   "metadata": {},
   "outputs": [
    {
     "data": {
      "text/html": [
       "<div>\n",
       "<style scoped>\n",
       "    .dataframe tbody tr th:only-of-type {\n",
       "        vertical-align: middle;\n",
       "    }\n",
       "\n",
       "    .dataframe tbody tr th {\n",
       "        vertical-align: top;\n",
       "    }\n",
       "\n",
       "    .dataframe thead th {\n",
       "        text-align: right;\n",
       "    }\n",
       "</style>\n",
       "<table border=\"1\" class=\"dataframe\">\n",
       "  <thead>\n",
       "    <tr style=\"text-align: right;\">\n",
       "      <th></th>\n",
       "      <th>Title</th>\n",
       "      <th>Rating</th>\n",
       "      <th>Price</th>\n",
       "    </tr>\n",
       "  </thead>\n",
       "  <tbody>\n",
       "    <tr>\n",
       "      <th>0</th>\n",
       "      <td>ASUS Vivobook 14, Intel Core i7-1165G7 11th Ge...</td>\n",
       "      <td>2.8 out of 5 stars</td>\n",
       "      <td>56,990</td>\n",
       "    </tr>\n",
       "    <tr>\n",
       "      <th>1</th>\n",
       "      <td>Lenovo ThinkBook 15 Intel 11th Gen Core i7 15....</td>\n",
       "      <td>3.7 out of 5 stars</td>\n",
       "      <td>79,990</td>\n",
       "    </tr>\n",
       "    <tr>\n",
       "      <th>2</th>\n",
       "      <td>Acer Nitro 5 Gaming Laptop Intel core i7 11th ...</td>\n",
       "      <td>4.5 out of 5 stars</td>\n",
       "      <td>78,106</td>\n",
       "    </tr>\n",
       "    <tr>\n",
       "      <th>3</th>\n",
       "      <td>ASUS Vivobook Pro 16, Intel Core i9 11th Gen, ...</td>\n",
       "      <td>3.8 out of 5 stars</td>\n",
       "      <td>89,990</td>\n",
       "    </tr>\n",
       "    <tr>\n",
       "      <th>4</th>\n",
       "      <td>Lenovo IdeaPad Slim 5 12th Gen Intel Core i7 1...</td>\n",
       "      <td>4.2 out of 5 stars</td>\n",
       "      <td>79,990</td>\n",
       "    </tr>\n",
       "    <tr>\n",
       "      <th>5</th>\n",
       "      <td>HP Victus Gaming Latest 12th Gen Intel Core i7...</td>\n",
       "      <td>4.3 out of 5 stars</td>\n",
       "      <td>84,990</td>\n",
       "    </tr>\n",
       "    <tr>\n",
       "      <th>6</th>\n",
       "      <td>HP Pavilion Plus, 12th Gen Intel Core i7 16GB ...</td>\n",
       "      <td>3.9 out of 5 stars</td>\n",
       "      <td>94,630</td>\n",
       "    </tr>\n",
       "    <tr>\n",
       "      <th>7</th>\n",
       "      <td>Lenovo ThinkPad E14 Intel Core i7 12th Gen 14\"...</td>\n",
       "      <td>3.5 out of 5 stars</td>\n",
       "      <td>1,02,490</td>\n",
       "    </tr>\n",
       "    <tr>\n",
       "      <th>8</th>\n",
       "      <td>Dell G15-5520 Gaming Laptop, i9-12900H, 16GB D...</td>\n",
       "      <td>3.8 out of 5 stars</td>\n",
       "      <td>1,38,990</td>\n",
       "    </tr>\n",
       "    <tr>\n",
       "      <th>9</th>\n",
       "      <td>ASUS TUF Dash F15 (2022), 15.6-inch (39.62 cms...</td>\n",
       "      <td>5.0 out of 5 stars</td>\n",
       "      <td>1,44,990</td>\n",
       "    </tr>\n",
       "  </tbody>\n",
       "</table>\n",
       "</div>"
      ],
      "text/plain": [
       "                                               Title              Rating  \\\n",
       "0  ASUS Vivobook 14, Intel Core i7-1165G7 11th Ge...  2.8 out of 5 stars   \n",
       "1  Lenovo ThinkBook 15 Intel 11th Gen Core i7 15....  3.7 out of 5 stars   \n",
       "2  Acer Nitro 5 Gaming Laptop Intel core i7 11th ...  4.5 out of 5 stars   \n",
       "3  ASUS Vivobook Pro 16, Intel Core i9 11th Gen, ...  3.8 out of 5 stars   \n",
       "4  Lenovo IdeaPad Slim 5 12th Gen Intel Core i7 1...  4.2 out of 5 stars   \n",
       "5  HP Victus Gaming Latest 12th Gen Intel Core i7...  4.3 out of 5 stars   \n",
       "6  HP Pavilion Plus, 12th Gen Intel Core i7 16GB ...  3.9 out of 5 stars   \n",
       "7  Lenovo ThinkPad E14 Intel Core i7 12th Gen 14\"...  3.5 out of 5 stars   \n",
       "8  Dell G15-5520 Gaming Laptop, i9-12900H, 16GB D...  3.8 out of 5 stars   \n",
       "9  ASUS TUF Dash F15 (2022), 15.6-inch (39.62 cms...  5.0 out of 5 stars   \n",
       "\n",
       "      Price  \n",
       "0    56,990  \n",
       "1    79,990  \n",
       "2    78,106  \n",
       "3    89,990  \n",
       "4    79,990  \n",
       "5    84,990  \n",
       "6    94,630  \n",
       "7  1,02,490  \n",
       "8  1,38,990  \n",
       "9  1,44,990  "
      ]
     },
     "execution_count": 58,
     "metadata": {},
     "output_type": "execute_result"
    }
   ],
   "source": [
    "title=[]\n",
    "rating=[]\n",
    "price=[]\n",
    "tt=driver.find_elements(By.XPATH,'//span[@class=\"a-size-medium a-color-base a-text-normal\"]')\n",
    "for i in tt:\n",
    "    title.append(i.text)\n",
    "    \n",
    "title=title[0:10]\n",
    "\n",
    "rat=driver.find_elements(By.CLASS_NAME,'a-icon-alt')\n",
    "for i in rat:\n",
    "    rating.append(i.get_attribute('textContent'))\n",
    "    \n",
    "rating=rating[0:10]\n",
    "\n",
    "pr=driver.find_elements(By.XPATH,'//span[@class=\"a-price-whole\"]')\n",
    "for i in pr:\n",
    "    price.append(i.text)\n",
    "    \n",
    "price=price[0:10]\n",
    "\n",
    "que8=pd.DataFrame({'Title':title,'Rating':rating,'Price':price})\n",
    "que8"
   ]
  },
  {
   "cell_type": "markdown",
   "id": "851ab0b8",
   "metadata": {},
   "source": [
    "Write a python program to scrape data for Top 1000 Quotes of all Time. The above task will be done in the following steps:"
   ]
  },
  {
   "cell_type": "code",
   "execution_count": 59,
   "id": "2d459077",
   "metadata": {},
   "outputs": [
    {
     "data": {
      "text/plain": [
       "<selenium.webdriver.chrome.webdriver.WebDriver (session=\"0a9911c672aeb57b69352917bc6191da\")>"
      ]
     },
     "execution_count": 59,
     "metadata": {},
     "output_type": "execute_result"
    }
   ],
   "source": [
    "# Let's first connect to web driver.\n",
    "driver=webdriver.Chrome(r\"H:\\Data_Science\\chromedriver.exe\")\n",
    "driver"
   ]
  },
  {
   "cell_type": "code",
   "execution_count": 60,
   "id": "44cf8f8c",
   "metadata": {},
   "outputs": [],
   "source": [
    "# Opening naukri.com.\n",
    "url ='https://www.azquotes.com/'\n",
    "driver.get(url)"
   ]
  },
  {
   "cell_type": "markdown",
   "id": "c22373ed",
   "metadata": {},
   "source": [
    " Write a python program to display list of respected former Prime Ministers of India(i.e. Name, Born-Dead, Term of office, Remarks) from https://www.jagranjosh.com/. This task will be done in following step"
   ]
  },
  {
   "cell_type": "code",
   "execution_count": 61,
   "id": "b45c23f9",
   "metadata": {},
   "outputs": [
    {
     "data": {
      "text/plain": [
       "<selenium.webdriver.chrome.webdriver.WebDriver (session=\"898bfd166351233f3913db3c97e1a36a\")>"
      ]
     },
     "execution_count": 61,
     "metadata": {},
     "output_type": "execute_result"
    }
   ],
   "source": [
    "# Let's first connect to web driver.\n",
    "driver=webdriver.Chrome(r\"H:\\Data_Science\\chromedriver.exe\")\n",
    "driver"
   ]
  },
  {
   "cell_type": "code",
   "execution_count": 62,
   "id": "16a1f67c",
   "metadata": {},
   "outputs": [],
   "source": [
    "# Opening naukri.com.\n",
    "url ='https://www.jagranjosh.com/'\n",
    "driver.get(url)"
   ]
  },
  {
   "cell_type": "code",
   "execution_count": null,
   "id": "b1fdddf7",
   "metadata": {},
   "outputs": [],
   "source": []
  }
 ],
 "metadata": {
  "kernelspec": {
   "display_name": "Python 3 (ipykernel)",
   "language": "python",
   "name": "python3"
  },
  "language_info": {
   "codemirror_mode": {
    "name": "ipython",
    "version": 3
   },
   "file_extension": ".py",
   "mimetype": "text/x-python",
   "name": "python",
   "nbconvert_exporter": "python",
   "pygments_lexer": "ipython3",
   "version": "3.9.12"
  }
 },
 "nbformat": 4,
 "nbformat_minor": 5
}
